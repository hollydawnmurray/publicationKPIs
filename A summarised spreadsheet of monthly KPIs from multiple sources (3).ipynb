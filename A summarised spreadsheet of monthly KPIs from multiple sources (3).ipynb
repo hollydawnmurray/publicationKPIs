{
 "cells": [
  {
   "cell_type": "markdown",
   "metadata": {},
   "source": [
    "# Summative Portfolio Project 1\n"
   ]
  },
  {
   "cell_type": "markdown",
   "metadata": {},
   "source": [
    "This notebook creates a summarised speadsheet of monthly KPIs collected from multiple sources across Health Data Research UK.\n",
    "\n",
    "The output is an exel file with summary statistics that can be used by colleagues to view current metrics, and compare those over time. "
   ]
  },
  {
   "cell_type": "markdown",
   "metadata": {},
   "source": [
    "First, run the following cell to:\n",
    "\n",
    "- import `pandas` with an alias of `pd`\n",
    "-import visualisation packages and set plotting styling\n",
    "- read a CSV containing the HDR UK publication data directly from a URL (using 'requests')\n",
    "- create a DataFrame `df` containing the data\n",
    "- take a look at the first few rows of the DataFrame\n"
   ]
  },
  {
   "cell_type": "code",
   "execution_count": 1,
   "metadata": {
    "inputHidden": false,
    "outputHidden": false
   },
   "outputs": [
    {
     "data": {
      "text/html": [
       "<div>\n",
       "<style scoped>\n",
       "    .dataframe tbody tr th:only-of-type {\n",
       "        vertical-align: middle;\n",
       "    }\n",
       "\n",
       "    .dataframe tbody tr th {\n",
       "        vertical-align: top;\n",
       "    }\n",
       "\n",
       "    .dataframe thead th {\n",
       "        text-align: right;\n",
       "    }\n",
       "</style>\n",
       "<table border=\"1\" class=\"dataframe\">\n",
       "  <thead>\n",
       "    <tr style=\"text-align: right;\">\n",
       "      <th></th>\n",
       "      <th>id</th>\n",
       "      <th>doi</th>\n",
       "      <th>title</th>\n",
       "      <th>authorString</th>\n",
       "      <th>authorAffiliations</th>\n",
       "      <th>journalTitle</th>\n",
       "      <th>pubYear</th>\n",
       "      <th>date</th>\n",
       "      <th>isOpenAccess</th>\n",
       "      <th>keywords</th>\n",
       "      <th>nationalPriorities</th>\n",
       "      <th>healthCategories</th>\n",
       "      <th>abstract</th>\n",
       "      <th>laySummary</th>\n",
       "      <th>urls</th>\n",
       "    </tr>\n",
       "  </thead>\n",
       "  <tbody>\n",
       "    <tr>\n",
       "      <th>0</th>\n",
       "      <td>35057841</td>\n",
       "      <td>https://doi.org/10.1186/s13063-021-05965-4</td>\n",
       "      <td>Development and evaluation of rapid data-enabl...</td>\n",
       "      <td>Cake C, Ogburn E, Pinches H, Coleman G, Seymou...</td>\n",
       "      <td>NaN</td>\n",
       "      <td>Trials</td>\n",
       "      <td>2022</td>\n",
       "      <td>2022-01-20</td>\n",
       "      <td>Y</td>\n",
       "      <td>Recruitment; Data; Clinical Trials; Primary Ca...</td>\n",
       "      <td>NaN</td>\n",
       "      <td>NaN</td>\n",
       "      <td>&lt;h4&gt;Background&lt;/h4&gt;The COVID-19 pandemic has p...</td>\n",
       "      <td>NaN</td>\n",
       "      <td>doi:https://doi.org/10.1186/s13063-021-05965-4...</td>\n",
       "    </tr>\n",
       "    <tr>\n",
       "      <th>1</th>\n",
       "      <td>35110546</td>\n",
       "      <td>https://doi.org/10.1038/s41467-022-28248-1</td>\n",
       "      <td>A population-based cohort study of obesity, et...</td>\n",
       "      <td>Yates T, Summerfield A, Razieh C, Banerjee A, ...</td>\n",
       "      <td>NaN</td>\n",
       "      <td>Nature communications</td>\n",
       "      <td>2022</td>\n",
       "      <td>2022-02-02</td>\n",
       "      <td>Y</td>\n",
       "      <td>NaN</td>\n",
       "      <td>NaN</td>\n",
       "      <td>NaN</td>\n",
       "      <td>Obesity and ethnicity are known risk factors f...</td>\n",
       "      <td>NaN</td>\n",
       "      <td>doi:https://doi.org/10.1038/s41467-022-28248-1...</td>\n",
       "    </tr>\n",
       "    <tr>\n",
       "      <th>2</th>\n",
       "      <td>35192598</td>\n",
       "      <td>https://doi.org/10.1371/journal.pmed.1003927</td>\n",
       "      <td>First dose ChAdOx1 and BNT162b2 COVID-19 vacci...</td>\n",
       "      <td>Kerr S, Joy M, Torabi F, Bedston S, Akbari A, ...</td>\n",
       "      <td>NaN</td>\n",
       "      <td>PLoS medicine</td>\n",
       "      <td>2022</td>\n",
       "      <td>2022-02-22</td>\n",
       "      <td>Y</td>\n",
       "      <td>NaN</td>\n",
       "      <td>NaN</td>\n",
       "      <td>NaN</td>\n",
       "      <td>&lt;h4&gt;Background&lt;/h4&gt;Several countries restricte...</td>\n",
       "      <td>NaN</td>\n",
       "      <td>doi:https://doi.org/10.1371/journal.pmed.10039...</td>\n",
       "    </tr>\n",
       "    <tr>\n",
       "      <th>3</th>\n",
       "      <td>34301672</td>\n",
       "      <td>https://doi.org/10.1136/bmjopen-2021-053402</td>\n",
       "      <td>Sociodemographic inequality in COVID-19 vaccin...</td>\n",
       "      <td>Nafilyan V, Dolby T, Razieh C, Gaughan CH, Mor...</td>\n",
       "      <td>NaN</td>\n",
       "      <td>BMJ open</td>\n",
       "      <td>2021</td>\n",
       "      <td>2021-07-23</td>\n",
       "      <td>Y</td>\n",
       "      <td>Infection control; epidemiology; Covid-19</td>\n",
       "      <td>NaN</td>\n",
       "      <td>NaN</td>\n",
       "      <td>&lt;h4&gt;Objective&lt;/h4&gt;To examine inequalities in C...</td>\n",
       "      <td>NaN</td>\n",
       "      <td>doi:https://doi.org/10.1136/bmjopen-2021-05340...</td>\n",
       "    </tr>\n",
       "    <tr>\n",
       "      <th>4</th>\n",
       "      <td>35690576</td>\n",
       "      <td>https://doi.org/10.1016/s2589-7500(22)00091-7</td>\n",
       "      <td>COVID-19 trajectories among 57 million adults ...</td>\n",
       "      <td>Thygesen JH, Tomlinson C, Hollings S, Mizani M...</td>\n",
       "      <td>NaN</td>\n",
       "      <td>The Lancet. Digital health</td>\n",
       "      <td>2022</td>\n",
       "      <td>2022-06-09</td>\n",
       "      <td>Y</td>\n",
       "      <td>NaN</td>\n",
       "      <td>NaN</td>\n",
       "      <td>NaN</td>\n",
       "      <td>&lt;h4&gt;Background&lt;/h4&gt;Updatable estimates of COVI...</td>\n",
       "      <td>NaN</td>\n",
       "      <td>doi:https://doi.org/10.1016/S2589-7500(22)0009...</td>\n",
       "    </tr>\n",
       "  </tbody>\n",
       "</table>\n",
       "</div>"
      ],
      "text/plain": [
       "         id                                            doi  \\\n",
       "0  35057841     https://doi.org/10.1186/s13063-021-05965-4   \n",
       "1  35110546     https://doi.org/10.1038/s41467-022-28248-1   \n",
       "2  35192598   https://doi.org/10.1371/journal.pmed.1003927   \n",
       "3  34301672    https://doi.org/10.1136/bmjopen-2021-053402   \n",
       "4  35690576  https://doi.org/10.1016/s2589-7500(22)00091-7   \n",
       "\n",
       "                                               title  \\\n",
       "0  Development and evaluation of rapid data-enabl...   \n",
       "1  A population-based cohort study of obesity, et...   \n",
       "2  First dose ChAdOx1 and BNT162b2 COVID-19 vacci...   \n",
       "3  Sociodemographic inequality in COVID-19 vaccin...   \n",
       "4  COVID-19 trajectories among 57 million adults ...   \n",
       "\n",
       "                                        authorString  authorAffiliations  \\\n",
       "0  Cake C, Ogburn E, Pinches H, Coleman G, Seymou...                 NaN   \n",
       "1  Yates T, Summerfield A, Razieh C, Banerjee A, ...                 NaN   \n",
       "2  Kerr S, Joy M, Torabi F, Bedston S, Akbari A, ...                 NaN   \n",
       "3  Nafilyan V, Dolby T, Razieh C, Gaughan CH, Mor...                 NaN   \n",
       "4  Thygesen JH, Tomlinson C, Hollings S, Mizani M...                 NaN   \n",
       "\n",
       "                 journalTitle  pubYear        date isOpenAccess  \\\n",
       "0                      Trials     2022  2022-01-20            Y   \n",
       "1       Nature communications     2022  2022-02-02            Y   \n",
       "2               PLoS medicine     2022  2022-02-22            Y   \n",
       "3                    BMJ open     2021  2021-07-23            Y   \n",
       "4  The Lancet. Digital health     2022  2022-06-09            Y   \n",
       "\n",
       "                                            keywords nationalPriorities  \\\n",
       "0  Recruitment; Data; Clinical Trials; Primary Ca...                NaN   \n",
       "1                                                NaN                NaN   \n",
       "2                                                NaN                NaN   \n",
       "3          Infection control; epidemiology; Covid-19                NaN   \n",
       "4                                                NaN                NaN   \n",
       "\n",
       "  healthCategories                                           abstract  \\\n",
       "0              NaN  <h4>Background</h4>The COVID-19 pandemic has p...   \n",
       "1              NaN  Obesity and ethnicity are known risk factors f...   \n",
       "2              NaN  <h4>Background</h4>Several countries restricte...   \n",
       "3              NaN  <h4>Objective</h4>To examine inequalities in C...   \n",
       "4              NaN  <h4>Background</h4>Updatable estimates of COVI...   \n",
       "\n",
       "  laySummary                                               urls  \n",
       "0        NaN  doi:https://doi.org/10.1186/s13063-021-05965-4...  \n",
       "1        NaN  doi:https://doi.org/10.1038/s41467-022-28248-1...  \n",
       "2        NaN  doi:https://doi.org/10.1371/journal.pmed.10039...  \n",
       "3        NaN  doi:https://doi.org/10.1136/bmjopen-2021-05340...  \n",
       "4        NaN  doi:https://doi.org/10.1016/S2589-7500(22)0009...  "
      ]
     },
     "execution_count": 1,
     "metadata": {},
     "output_type": "execute_result"
    }
   ],
   "source": [
    "import requests\n",
    "import pandas as pd\n",
    "import matplotlib.pyplot as plt\n",
    "import json\n",
    "\n",
    "url= 'https://hdruk.github.io/papers/data/papers.csv'\n",
    "r=requests.get(url)\n",
    "open('papers.csv', 'wb').write(r.content)\n",
    "\n",
    "df = pd.read_csv('papers.csv')\n",
    "df.head()"
   ]
  },
  {
   "cell_type": "markdown",
   "metadata": {},
   "source": [
    "`df` now has one row of data for each publication. \n",
    "Take a look at the datatypes for each column."
   ]
  },
  {
   "cell_type": "code",
   "execution_count": 2,
   "metadata": {},
   "outputs": [
    {
     "data": {
      "text/plain": [
       "id                     object\n",
       "doi                    object\n",
       "title                  object\n",
       "authorString           object\n",
       "authorAffiliations    float64\n",
       "journalTitle           object\n",
       "pubYear                 int64\n",
       "date                   object\n",
       "isOpenAccess           object\n",
       "keywords               object\n",
       "nationalPriorities     object\n",
       "healthCategories       object\n",
       "abstract               object\n",
       "laySummary             object\n",
       "urls                   object\n",
       "dtype: object"
      ]
     },
     "execution_count": 2,
     "metadata": {},
     "output_type": "execute_result"
    }
   ],
   "source": [
    "df.dtypes"
   ]
  },
  {
   "cell_type": "markdown",
   "metadata": {},
   "source": [
    "## 1. Tidy Data\n",
    "\n",
    "The dataset has columns that are not needed and (as noted above) date is an object.\n",
    "\n",
    "Starting from a copy of `df`, create a new dataFrame called `clean_df` with the following changes:\n",
    "- Drop the 'id', 'keywords', 'pubYear' 'authorAffiliations','nationaPriorities', 'healthCategories', 'laySumamry', and 'urls' columns\n",
    "- Change column data type for 'date' to datetime format Y-M-D. Ensure any errors are marked as 'not a time'\n",
    "-Change column data type for 'isOpenAccess' to binary\n",
    "\n",
    "\n"
   ]
  },
  {
   "cell_type": "code",
   "execution_count": 3,
   "metadata": {},
   "outputs": [],
   "source": [
    "clean_df=df.copy()\n",
    "clean_df.drop([\"keywords\", \"id\", \"pubYear\", \"authorAffiliations\", \"nationalPriorities\", \"healthCategories\", \"laySummary\", \"urls\"], axis=1, inplace=True)\n",
    "clean_df['date'] = pd.to_datetime(clean_df['date'], format='%Y-%m-%d', errors='coerce')\n",
    "clean_df.rename(columns={'date': 'Month'}, inplace=True) #doing this as part of cleaning - will limit to month only in later steps\n",
    "clean_df['isOpenAccess'] = clean_df['isOpenAccess'].map({'Y': 1, 'N': 0})"
   ]
  },
  {
   "cell_type": "markdown",
   "metadata": {},
   "source": [
    "Check the data types of your new DataFrame to confirm columns removed and datatypes converted."
   ]
  },
  {
   "cell_type": "code",
   "execution_count": 4,
   "metadata": {},
   "outputs": [
    {
     "data": {
      "text/plain": [
       "doi                     object\n",
       "title                   object\n",
       "authorString            object\n",
       "journalTitle            object\n",
       "Month           datetime64[ns]\n",
       "isOpenAccess             int64\n",
       "abstract                object\n",
       "dtype: object"
      ]
     },
     "execution_count": 4,
     "metadata": {},
     "output_type": "execute_result"
    }
   ],
   "source": [
    "clean_df.dtypes"
   ]
  },
  {
   "cell_type": "markdown",
   "metadata": {},
   "source": [
    "## 2. Analyse dataset for KPIs\n",
    "Create a new DataFrame titled 'publications' that contains data from 2022 only. Order this DataFrame by `date`, with the most recent at the top."
   ]
  },
  {
   "cell_type": "code",
   "execution_count": 5,
   "metadata": {},
   "outputs": [
    {
     "data": {
      "text/html": [
       "<div>\n",
       "<style scoped>\n",
       "    .dataframe tbody tr th:only-of-type {\n",
       "        vertical-align: middle;\n",
       "    }\n",
       "\n",
       "    .dataframe tbody tr th {\n",
       "        vertical-align: top;\n",
       "    }\n",
       "\n",
       "    .dataframe thead th {\n",
       "        text-align: right;\n",
       "    }\n",
       "</style>\n",
       "<table border=\"1\" class=\"dataframe\">\n",
       "  <thead>\n",
       "    <tr style=\"text-align: right;\">\n",
       "      <th></th>\n",
       "      <th>doi</th>\n",
       "      <th>title</th>\n",
       "      <th>authorString</th>\n",
       "      <th>journalTitle</th>\n",
       "      <th>Month</th>\n",
       "      <th>isOpenAccess</th>\n",
       "      <th>abstract</th>\n",
       "    </tr>\n",
       "  </thead>\n",
       "  <tbody>\n",
       "    <tr>\n",
       "      <th>563</th>\n",
       "      <td>https://doi.org/10.1016/s2666-7568(21)00281-6</td>\n",
       "      <td>The importance of blood pressure thresholds ve...</td>\n",
       "      <td>Herrett E, Strongman H, Gadd S, Tomlinson L, N...</td>\n",
       "      <td>The Lancet. Healthy longevity</td>\n",
       "      <td>2022-01-01</td>\n",
       "      <td>1</td>\n",
       "      <td>&lt;h4&gt;Background&lt;/h4&gt;For five decades, blood pre...</td>\n",
       "    </tr>\n",
       "    <tr>\n",
       "      <th>571</th>\n",
       "      <td>https://doi.org/10.1093/dote/doab058</td>\n",
       "      <td>Demographic and lifestyle risk factors for gas...</td>\n",
       "      <td>Wang SE, Kendall BJ, Hodge AM, Dixon-Suen SC, ...</td>\n",
       "      <td>Diseases of the esophagus : official journal o...</td>\n",
       "      <td>2022-01-01</td>\n",
       "      <td>0</td>\n",
       "      <td>We examined demographic and lifestyle risk fac...</td>\n",
       "    </tr>\n",
       "    <tr>\n",
       "      <th>691</th>\n",
       "      <td>https://doi.org/10.1093/eurheartj/ehab759</td>\n",
       "      <td>A sex-specific prediction model is not enough ...</td>\n",
       "      <td>Kimenai DM, Shah ASV, Mills NL.</td>\n",
       "      <td>European heart journal</td>\n",
       "      <td>2022-01-01</td>\n",
       "      <td>1</td>\n",
       "      <td>NaN</td>\n",
       "    </tr>\n",
       "    <tr>\n",
       "      <th>746</th>\n",
       "      <td>https://doi.org/10.1167/tvst.11.1.3</td>\n",
       "      <td>OCT Assisted Quantification of Vitreous Inflam...</td>\n",
       "      <td>Liu X, Kale AU, Ometto G, Montesano G, Sitch A...</td>\n",
       "      <td>Translational vision science &amp; technology</td>\n",
       "      <td>2022-01-01</td>\n",
       "      <td>1</td>\n",
       "      <td>&lt;h4&gt;Purpose&lt;/h4&gt;Vitreous haze (VH) is a key ma...</td>\n",
       "    </tr>\n",
       "    <tr>\n",
       "      <th>479</th>\n",
       "      <td>https://doi.org/10.1097/ta.0000000000003317</td>\n",
       "      <td>Association between type 2 diabetes and long-t...</td>\n",
       "      <td>Daly SL, Gabbe BJ, Climie RE, Ekegren CL.</td>\n",
       "      <td>The journal of trauma and acute care surgery</td>\n",
       "      <td>2022-01-01</td>\n",
       "      <td>0</td>\n",
       "      <td>&lt;h4&gt;Background&lt;/h4&gt;Diabetes is associated with...</td>\n",
       "    </tr>\n",
       "  </tbody>\n",
       "</table>\n",
       "</div>"
      ],
      "text/plain": [
       "                                               doi  \\\n",
       "563  https://doi.org/10.1016/s2666-7568(21)00281-6   \n",
       "571           https://doi.org/10.1093/dote/doab058   \n",
       "691      https://doi.org/10.1093/eurheartj/ehab759   \n",
       "746            https://doi.org/10.1167/tvst.11.1.3   \n",
       "479    https://doi.org/10.1097/ta.0000000000003317   \n",
       "\n",
       "                                                 title  \\\n",
       "563  The importance of blood pressure thresholds ve...   \n",
       "571  Demographic and lifestyle risk factors for gas...   \n",
       "691  A sex-specific prediction model is not enough ...   \n",
       "746  OCT Assisted Quantification of Vitreous Inflam...   \n",
       "479  Association between type 2 diabetes and long-t...   \n",
       "\n",
       "                                          authorString  \\\n",
       "563  Herrett E, Strongman H, Gadd S, Tomlinson L, N...   \n",
       "571  Wang SE, Kendall BJ, Hodge AM, Dixon-Suen SC, ...   \n",
       "691                    Kimenai DM, Shah ASV, Mills NL.   \n",
       "746  Liu X, Kale AU, Ometto G, Montesano G, Sitch A...   \n",
       "479          Daly SL, Gabbe BJ, Climie RE, Ekegren CL.   \n",
       "\n",
       "                                          journalTitle      Month  \\\n",
       "563                      The Lancet. Healthy longevity 2022-01-01   \n",
       "571  Diseases of the esophagus : official journal o... 2022-01-01   \n",
       "691                             European heart journal 2022-01-01   \n",
       "746          Translational vision science & technology 2022-01-01   \n",
       "479       The journal of trauma and acute care surgery 2022-01-01   \n",
       "\n",
       "     isOpenAccess                                           abstract  \n",
       "563             1  <h4>Background</h4>For five decades, blood pre...  \n",
       "571             0  We examined demographic and lifestyle risk fac...  \n",
       "691             1                                                NaN  \n",
       "746             1  <h4>Purpose</h4>Vitreous haze (VH) is a key ma...  \n",
       "479             0  <h4>Background</h4>Diabetes is associated with...  "
      ]
     },
     "execution_count": 5,
     "metadata": {},
     "output_type": "execute_result"
    }
   ],
   "source": [
    "publications=clean_df[clean_df['Month'].dt.strftime('%Y') == '2022'].sort_values(by='Month', ascending=False)\n",
    "publications.tail()"
   ]
  },
  {
   "cell_type": "markdown",
   "metadata": {},
   "source": [
    "Using the `publications` DataFrame we created earlier, find:\n",
    "-the total number of publications for each month\n",
    "-the % of publications for each month which are Open Access"
   ]
  },
  {
   "cell_type": "code",
   "execution_count": 6,
   "metadata": {},
   "outputs": [
    {
     "name": "stdout",
     "output_type": "stream",
     "text": [
      "Month\n",
      "January     65\n",
      "February    54\n",
      "March       49\n",
      "April       48\n",
      "May         46\n",
      "June        22\n",
      "Name: doi, dtype: int64\n",
      "Month\n",
      "January     76.923077\n",
      "February    79.629630\n",
      "March       89.795918\n",
      "April       83.333333\n",
      "May         69.565217\n",
      "June        63.636364\n",
      "Name: isOpenAccess, dtype: float64\n"
     ]
    }
   ],
   "source": [
    "counts =publications.groupby(publications.Month.dt.month_name())['doi'].count() #number of publications per month\n",
    "counts = counts.sort_index(key=lambda x: pd.to_datetime(x, format=\"%B\")) #orders months chronolgically \n",
    "\n",
    "\n",
    "OA= publications.groupby(publications.Month.dt.month_name())['isOpenAccess'].value_counts(normalize=True)*100\n",
    "OA=OA.xs(1, level=1) #filters the percentages on (1) which is equivalent it 'Yes is OA'\n",
    "OA = OA.sort_index(key=lambda x: pd.to_datetime(x, format=\"%B\")) #orders months chronolgically \n",
    "\n",
    "\n",
    "print(counts)\n",
    "print(OA)\n",
    "              \n"
   ]
  },
  {
   "cell_type": "markdown",
   "metadata": {},
   "source": [
    "## 3. Analyse dataset for 'new' KPIs\n",
    "Create a list of DOIs from the publications dataframe to be inputted into the CrossRef API (using the habanero package) and return citation counts for each DOI.  "
   ]
  },
  {
   "cell_type": "code",
   "execution_count": 7,
   "metadata": {
    "scrolled": false
   },
   "outputs": [
    {
     "data": {
      "text/plain": [
       "['10.1111/1747-0080.12746,10.1126/science.abq4411,,10.1038/s41588-022-01126-8,10.1002/cam4.4941,,10.1016/j.kint.2022.05.015,10.1161/jaha.121.024248,10.1186/s12916-022-02399-w,10.1038/s42003-022-03448-z,10.3390/jpm12060958,10.1016/s2665-9913(22)00098-4,10.1186/s12933-022-01525-5,10.1016/s2589-7500(22)00091-7,10.1016/j.vaccine.2022.06.010,10.1371/journal.pone.0268837,10.1016/j.jamda.2022.05.003,10.1186/s41512-022-00124-y,10.1093/ndt/gfac040,10.1111/bjhp.12606,10.1038/s41591-022-01781-8,10.1093/rheumatology/keac283,10.1093/ehjci/jeac101,10.1038/s41533-022-00280-0,10.1186/s12889-022-13453-w,10.2196/32543,10.1371/journal.pmed.1004015,10.1093/eurheartj/ehac238,10.1136/heartjnl-2021-320325,10.1186/s12889-022-13457-6,10.1371/journal.pone.0267176,10.1038/s41593-022-01074-w,10.1016/s0140-6736(22)00532-3,10.1016/j.eclinm.2022.101462,10.1016/j.ejrad.2022.110366,10.1038/s41598-022-12517-6,10.1136/bmjopen-2021-057343,10.1371/journal.pmed.1003981,10.1136/bmj-2022-070904,10.1038/s41591-022-01772-9,10.1016/s2589-7500(22)00061-9,10.1111/eci.13814,10.1136/bmj-2021-069704,10.1136/archdischild-2021-323616,10.1016/j.ajhg.2022.04.009,10.1038/s41586-022-04712-2,10.1177/01410768221095245,10.1111/tmi.13752,10.1136/bmjopen-2021-054186,10.1016/j.eclinm.2022.101428,10.1136/bmjopen-2021-059258,10.1016/j.eclinm.2022.101419,10.1136/injuryprev-2021-044513,10.1002/art.42154,10.1016/s2666-7568(22)00093-9,10.1186/s12911-022-01865-y,10.1038/s41431-022-01107-9,10.1038/s41416-022-01830-6,10.1093/eurjpc/zwac008,10.1016/s2666-7568(22)00072-1,10.1093/ageing/afac072,10.1093/jnci/djac011,10.1177/14791641221088824,10.1093/intqhc/mzac031,10.1093/ageing/afac084,10.1093/ageing/afac098,10.1001/jamapsychiatry.2022.0407,10.2337/dc21-1709,10.1016/j.jclinepi.2022.04.025,10.1136/bmjopen-2021-056541,10.1136/bmjopen-2021-057017,10.1038/s41467-022-29932-y,10.1016/j.eclinm.2022.101417,10.1111/bcp.15366,10.1136/bmjopen-2021-057579,10.1016/j.ijcard.2022.04.067,10.1371/journal.pone.0266967,10.1136/bmj-2022-070230,10.23889/ijpds.v6i1.1718,10.1136/bmjopen-2021-060413,,10.1016/s1473-3099(22)00141-4,10.1016/j.eclinm.2022.101392,10.1136/bmjopen-2021-056523,10.1038/s41698-022-00269-5,10.1136/bmjopen-2021-052514,10.1093/ehjqcco/qcac016,10.1093/infdis/jiac146,10.1186/s12911-022-01842-5,10.3389/fcvm.2022.768972,10.2196/30523,10.1136/bmjopen-2021-049441,10.1007/s43441-022-00394-0,10.1038/s41467-022-29521-z,10.1016/j.lanepe.2022.100381,10.1093/eurjpc/zwac055,10.1136/bmjopen-2021-057885,10.1186/s12889-022-13069-0,10.1161/circulationaha.121.057888,10.3389/fcvm.2022.859310,10.1126/sciadv.abl6579,10.1038/s41467-022-29641-6,10.1136/bmjopen-2021-055447,10.1371/journal.pone.0264828,10.1016/s2589-7500(22)00003-6,10.1371/journal.pgen.1010093,10.1186/s12933-022-01482-z,10.1128/jcm.02408-21,10.1042/bcj20220105,10.1093/ageing/afac090,10.1016/s2589-7500(22)00018-8,10.1002/cpz1.373,10.1093/eurheartj/ehab863,10.1186/s12879-022-07268-8,10.1001/jamaneurol.2021.5420,10.1182/bloodadvances.2021005453,10.1021/acs.analchem.1c03592,10.1016/j.patter.2022.100471,10.1242/dmm.049257,10.1007/s11897-022-00544-3,10.1136/thoraxjnl-2021-218629,10.1016/j.cmet.2022.03.002,10.1136/bmjopen-2021-057909,10.7189/jogh.12.05008,10.1038/s41598-022-08690-3,10.1016/j.injury.2022.03.039,10.1186/s12916-022-02308-1,10.1038/s41598-022-08351-5,10.1002/ehf2.13910,10.3389/fnagi.2022.840651,10.1007/s00520-022-06976-w,10.1186/s12882-022-02742-6,10.1161/jaha.121.023146,10.1161/circulationaha.121.056663,10.14218/jctp.2022.00003,10.1136/bmjopen-2021-050610,10.1007/s12471-022-01670-2,10.1002/jcsm.12971,10.1136/bmjopen-2021-058552,10.1038/s41467-022-28517-z,10.2196/31021,10.1007/s00247-021-05266-7,10.1016/j.jaccao.2022.01.102,10.1002/alz.12635,10.1016/j.eclinm.2022.101346,10.1038/s41591-022-01750-1,10.1136/heartjnl-2021-320417,10.2196/34898,10.1136/bmjopen-2021-055070,10.1016/s2213-2600(21)00511-7,10.1007/s12471-022-01677-9,10.1038/s41467-022-28729-3,10.1097/ta.0000000000003592,10.1111/acel.13524,10.1038/s41586-022-04569-5,10.1016/j.eclinm.2022.101317,10.1186/s12877-021-02673-1,10.1080/21645515.2022.2031774,10.1371/journal.pmed.1003907,10.1136/bmjgh-2021-008099,10.1097/pts.0000000000000867,10.1038/s41398-022-01852-x,10.1093/molbev/msac034,10.1016/s2213-8587(22)00015-8,10.1093/pubmed/fdaa267,10.1016/j.ijid.2022.02.051,10.1371/journal.pone.0264529,10.3390/biology11030365,10.1371/journal.pone.0264341,10.1038/s41591-022-01736-z,10.1192/bjo.2022.24,10.1136/bmjopen-2021-055773,10.1371/journal.pmed.1003916,10.1371/journal.pmed.1003926,10.1371/journal.pmed.1003927,10.1136/bmjopen-2021-053884,10.1186/s12888-022-03753-1,10.1016/j.ebiom.2022.103878,10.1371/journal.pone.0263390,10.3389/fgene.2022.818574,10.1371/journal.pmed.1003915,10.1016/j.vaccine.2022.02.056,10.2147/por.s353400,10.1136/bmjopen-2021-052911,10.1038/s41467-022-28527-x,10.3389/fdgth.2022.788124,10.1038/s41598-022-06315-3,10.1136/bmjopen-2021-050062,10.1093/ehjci/jeac030,10.1002/pds.5412,10.1016/j.jbi.2022.104010,10.1371/journal.pbio.3001531,10.2196/31885,10.1038/s41591-022-01701-w,10.1016/j.injury.2022.02.027,10.1371/journal.pcbi.1009806,10.1126/science.abn8347,10.1136/bmjopen-2021-054027,10.1136/bmjopen-2021-055603,10.1038/s41467-022-28252-5,10.1186/s12916-022-02234-2,10.1097/mcp.0000000000000863,10.1186/s12911-022-01770-4,10.1038/s41588-021-00991-z,10.1136/bjophthalmol-2021-319641,10.1038/s41467-022-28248-1,10.1128/msystems.01132-21,10.1093/ije/dyab149,10.1016/j.jacc.2021.11.045,10.1093/europace/euab162,10.1101/cshperspect.a039230,10.1016/s0140-6736(22)00163-5,10.1161/circgen.121.003553,,10.1093/ije/dyab172,10.1111/bjd.21042,10.1136/bmjopen-2021-054376,10.2337/db21-0320,10.1038/s41586-022-04474-x,10.1177/17407745221077691,10.2196/21341,10.1016/j.chest.2021.12.674,10.1016/j.media.2022.102366,10.1038/s41525-021-00267-9,10.1111/bcp.15191,10.2196/28095,10.1161/circep.121.010221,10.3389/fcvm.2022.822269,10.3389/fdgth.2022.833912,10.1016/j.immuni.2022.01.017,10.1002/ejhf.2417,10.1038/s41598-022-05414-5,10.1186/s12916-021-02218-8,10.1371/journal.pmed.1003871,10.1038/s41467-022-28157-3,10.1007/s10439-022-02905-4,10.1192/bjp.2021.219,10.1136/bmjopen-2021-054414,10.1016/s2213-2600(21)00542-7,10.1080/09537104.2021.2003317,10.1186/s13063-021-05965-4,10.1016/j.jviromet.2022.114471,10.1136/bmjopen-2021-055572,10.1136/bmjopen-2021-049506,10.1016/j.amjcard.2021.12.022,10.1007/s00125-021-05640-y,10.1016/j.vaccine.2021.11.061,10.1371/journal.pone.0261142,10.1038/s41588-021-00996-8,10.1016/s2213-2600(21)00543-9,10.7554/elife.71802,10.1038/s41591-021-01666-2,10.1136/bmj-2021-067519,10.1183/16000617.0121-2021,10.1016/j.xgen.2021.100086,10.1186/s12916-021-02193-0,10.1038/s41467-021-27950-w,10.1177/17407745211069985,10.3390/jpm12010086,10.5334/aogh.3465,10.1016/j.apmr.2021.12.014,10.1016/j.retram.2022.103333,10.1177/20552076211059350,10.1186/s12877-021-02684-y,10.1093/pubmed/fdab400,10.1016/j.clon.2021.12.017,10.1016/j.lanepe.2021.100299,10.1093/bioinformatics/btab879,10.1177/20552076221074122,,10.1093/infdis/jiab459,10.1080/19490976.2022.2038863,10.1093/eurheartj/ehab581,10.1093/ageing/afab223,10.1093/ageing/afab201,10.1097/htr.0000000000000741,10.1097/ede.0000000000001429,10.1093/eurheartj/ehab874,10.1007/978-1-0716-2140-0_6,10.1016/s2666-7568(21)00281-6,10.1093/dote/doab058,10.1093/eurheartj/ehab759,10.1167/tvst.11.1.3,10.1097/ta.0000000000003317']"
      ]
     },
     "execution_count": 7,
     "metadata": {},
     "output_type": "execute_result"
    }
   ],
   "source": [
    "list_of_DOIs = publications['doi'].tolist()\n",
    "list_of_DOIs = ','.join(list_of_DOIs).replace('https://doi.org/','').split() #format DOIs as required by CrossRef API (remove https..)\n",
    "list_of_DOIs\n"
   ]
  },
  {
   "cell_type": "code",
   "execution_count": 8,
   "metadata": {},
   "outputs": [],
   "source": [
    "#loop test \n",
    "citations = list() # stores responses for citations\n",
    "\n",
    "for doi in list_of_DOIs:\n",
    "   responses = requests.get('https://api.crossref.org/v1/works/{}'.format(doi))\n",
    "   data=json.loads(responses.text)\n",
    "   citations.append(data)"
   ]
  },
  {
   "cell_type": "markdown",
   "metadata": {},
   "source": [
    "## 4. Create outputs \n",
    "Generate a csv file containing the KPIs and create visuals for ease of conspumption by colleagues."
   ]
  },
  {
   "cell_type": "code",
   "execution_count": 9,
   "metadata": {},
   "outputs": [
    {
     "data": {
      "image/png": "[encoded data removed]",
      "text/plain": [
       "<Figure size 432x288 with 1 Axes>"
      ]
     },
     "metadata": {
      "needs_background": "light"
     },
     "output_type": "display_data"
    }
   ],
   "source": [
    "#create a figure showing number of publications by month\n",
    "plt.figure()\n",
    "publications_bar = counts.plot(kind='bar', title='Monthly Publication Counts')\n",
    "publications_bar.set(xlabel=None)\n",
    "plt.axhline(y=50, color='r', linestyle='--') #adds target line\n",
    "\n",
    "plt.savefig(\"Publications.png\") # save as png (check folder you are working in)"
   ]
  },
  {
   "cell_type": "code",
   "execution_count": 10,
   "metadata": {},
   "outputs": [
    {
     "data": {
      "image/png": "[encoded data removed]",
      "text/plain": [
       "<Figure size 432x288 with 1 Axes>"
      ]
     },
     "metadata": {
      "needs_background": "light"
     },
     "output_type": "display_data"
    }
   ],
   "source": [
    "#create a figure showing %OA publications by month\n",
    "plt.figure()\n",
    "OA_bar = OA.plot(kind='bar', title='Percent of OA Publications')\n",
    "OA_bar.set(xlabel=None)\n",
    "\n",
    "plt.savefig(\"PercentOA.png\") # save as png (check folder you are working in)\n"
   ]
  },
  {
   "cell_type": "code",
   "execution_count": 11,
   "metadata": {
    "scrolled": false
   },
   "outputs": [
    {
     "data": {
      "text/html": [
       "<div>\n",
       "<style scoped>\n",
       "    .dataframe tbody tr th:only-of-type {\n",
       "        vertical-align: middle;\n",
       "    }\n",
       "\n",
       "    .dataframe tbody tr th {\n",
       "        vertical-align: top;\n",
       "    }\n",
       "\n",
       "    .dataframe thead th {\n",
       "        text-align: right;\n",
       "    }\n",
       "</style>\n",
       "<table border=\"1\" class=\"dataframe\">\n",
       "  <thead>\n",
       "    <tr style=\"text-align: right;\">\n",
       "      <th></th>\n",
       "      <th>Publications</th>\n",
       "      <th>Percent Open Access</th>\n",
       "    </tr>\n",
       "    <tr>\n",
       "      <th>Month</th>\n",
       "      <th></th>\n",
       "      <th></th>\n",
       "    </tr>\n",
       "  </thead>\n",
       "  <tbody>\n",
       "    <tr>\n",
       "      <th>February</th>\n",
       "      <td>54</td>\n",
       "      <td>79.629630</td>\n",
       "    </tr>\n",
       "    <tr>\n",
       "      <th>March</th>\n",
       "      <td>49</td>\n",
       "      <td>89.795918</td>\n",
       "    </tr>\n",
       "    <tr>\n",
       "      <th>April</th>\n",
       "      <td>48</td>\n",
       "      <td>83.333333</td>\n",
       "    </tr>\n",
       "    <tr>\n",
       "      <th>May</th>\n",
       "      <td>46</td>\n",
       "      <td>69.565217</td>\n",
       "    </tr>\n",
       "    <tr>\n",
       "      <th>June</th>\n",
       "      <td>22</td>\n",
       "      <td>63.636364</td>\n",
       "    </tr>\n",
       "  </tbody>\n",
       "</table>\n",
       "</div>"
      ],
      "text/plain": [
       "          Publications  Percent Open Access\n",
       "Month                                      \n",
       "February            54            79.629630\n",
       "March               49            89.795918\n",
       "April               48            83.333333\n",
       "May                 46            69.565217\n",
       "June                22            63.636364"
      ]
     },
     "execution_count": 11,
     "metadata": {},
     "output_type": "execute_result"
    }
   ],
   "source": [
    "#join publication counts and OA into a single DF and export as a csv file\n",
    "data = {\"Publications\": counts,\n",
    "        \"Percent Open Access\": OA}\n",
    "monthly_KPIs= pd.concat(data, axis=1)\n",
    "monthly_KPIs.tail()"
   ]
  },
  {
   "cell_type": "code",
   "execution_count": 12,
   "metadata": {},
   "outputs": [],
   "source": [
    "#naming files with a timestamp\n",
    "import time\n",
    "\n",
    "TodaysDate = time.strftime(\"%d-%m-%Y\")\n",
    "publicationsfilename = \"publications\"+ TodaysDate +\".xlsx\" \n",
    "KPIsfilename = \"monthly_KPIs\"+ TodaysDate +\".xlsx\"\n",
    "\n",
    "clean_df.to_excel(publicationsfilename, index=False)  #this has created an xls file in the same directory you are working in (check downloads)\n",
    "monthly_KPIs.to_excel(KPIsfilename) #this has created an xls file in the same directory you are working in (check downloads)"
   ]
  },
  {
   "cell_type": "markdown",
   "metadata": {},
   "source": [
    "## 5. Housekeeping\n",
    "Create a list of dependencies as best practise - using the watermark IPython magic extension for printing date and time stamps, version numbers, and hardware information."
   ]
  },
  {
   "cell_type": "code",
   "execution_count": 14,
   "metadata": {},
   "outputs": [
    {
     "name": "stdout",
     "output_type": "stream",
     "text": [
      "Requirement already satisfied: watermark in c:\\users\\hollydawnmurray\\anaconda3\\lib\\site-packages (2.3.1)\n",
      "Requirement already satisfied: ipython in c:\\users\\hollydawnmurray\\anaconda3\\lib\\site-packages (from watermark) (7.22.0)\n",
      "Requirement already satisfied: setuptools>=18.5 in c:\\users\\hollydawnmurray\\anaconda3\\lib\\site-packages (from ipython->watermark) (52.0.0.post20210125)\n",
      "Requirement already satisfied: pickleshare in c:\\users\\hollydawnmurray\\anaconda3\\lib\\site-packages (from ipython->watermark) (0.7.5)\n",
      "Requirement already satisfied: backcall in c:\\users\\hollydawnmurray\\anaconda3\\lib\\site-packages (from ipython->watermark) (0.2.0)\n",
      "Requirement already satisfied: decorator in c:\\users\\hollydawnmurray\\anaconda3\\lib\\site-packages (from ipython->watermark) (5.0.6)\n",
      "Requirement already satisfied: traitlets>=4.2 in c:\\users\\hollydawnmurray\\anaconda3\\lib\\site-packages (from ipython->watermark) (5.0.5)\n",
      "Requirement already satisfied: colorama in c:\\users\\hollydawnmurray\\anaconda3\\lib\\site-packages (from ipython->watermark) (0.4.4)\n",
      "Requirement already satisfied: jedi>=0.16 in c:\\users\\hollydawnmurray\\anaconda3\\lib\\site-packages (from ipython->watermark) (0.17.2)\n",
      "Requirement already satisfied: prompt-toolkit!=3.0.0,!=3.0.1,<3.1.0,>=2.0.0 in c:\\users\\hollydawnmurray\\anaconda3\\lib\\site-packages (from ipython->watermark) (3.0.17)\n",
      "Requirement already satisfied: pygments in c:\\users\\hollydawnmurray\\anaconda3\\lib\\site-packages (from ipython->watermark) (2.8.1)\n",
      "Requirement already satisfied: parso<0.8.0,>=0.7.0 in c:\\users\\hollydawnmurray\\anaconda3\\lib\\site-packages (from jedi>=0.16->ipython->watermark) (0.7.0)\n",
      "Requirement already satisfied: wcwidth in c:\\users\\hollydawnmurray\\anaconda3\\lib\\site-packages (from prompt-toolkit!=3.0.0,!=3.0.1,<3.1.0,>=2.0.0->ipython->watermark) (0.2.5)\n",
      "Requirement already satisfied: ipython-genutils in c:\\users\\hollydawnmurray\\anaconda3\\lib\\site-packages (from traitlets>=4.2->ipython->watermark) (0.2.0)\n"
     ]
    }
   ],
   "source": [
    "import sys\n",
    "!{sys.executable} -m pip install watermark\n",
    "%load_ext watermark "
   ]
  },
  {
   "cell_type": "code",
   "execution_count": 16,
   "metadata": {},
   "outputs": [
    {
     "name": "stdout",
     "output_type": "stream",
     "text": [
      "Last updated: 2022-06-30T09:47:16.307589+01:00\n",
      "\n",
      "Python implementation: CPython\n",
      "Python version       : 3.8.8\n",
      "IPython version      : 7.22.0\n",
      "\n",
      "Compiler    : MSC v.1916 64 bit (AMD64)\n",
      "OS          : Windows\n",
      "Release     : 10\n",
      "Machine     : AMD64\n",
      "Processor   : Intel64 Family 6 Model 126 Stepping 5, GenuineIntel\n",
      "CPU cores   : 8\n",
      "Architecture: 64bit\n",
      "\n",
      "matplotlib: 3.3.4\n",
      "requests  : 2.25.1\n",
      "sys       : 3.8.8 (default, Apr 13 2021, 15:08:03) [MSC v.1916 64 bit (AMD64)]\n",
      "json      : 2.0.9\n",
      "pandas    : 1.2.4\n",
      "\n"
     ]
    }
   ],
   "source": [
    "%watermark \n",
    "%watermark --iversions "
   ]
  }
 ],
 "metadata": {
  "kernel_info": {
   "name": "python3"
  },
  "kernelspec": {
   "display_name": "Python 3",
   "language": "python",
   "name": "python3"
  },
  "language_info": {
   "codemirror_mode": {
    "name": "ipython",
    "version": 3
   },
   "file_extension": ".py",
   "mimetype": "text/x-python",
   "name": "python",
   "nbconvert_exporter": "python",
   "pygments_lexer": "ipython3",
   "version": "3.8.8"
  },
  "nteract": {
   "version": "0.15.0"
  }
 },
 "nbformat": 4,
 "nbformat_minor": 4
}
